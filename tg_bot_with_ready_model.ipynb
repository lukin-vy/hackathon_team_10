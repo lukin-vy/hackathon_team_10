{
 "cells": [
  {
   "cell_type": "markdown",
   "id": "9cc6cba7-fb54-48e0-99c7-86f16a876a46",
   "metadata": {},
   "source": [
    "Загружаем бибилиотеки"
   ]
  },
  {
   "cell_type": "code",
   "execution_count": 1,
   "id": "4072d9d2-6089-45ce-a99a-85853143d93a",
   "metadata": {},
   "outputs": [],
   "source": [
    "import torch\n",
    "from PIL import Image\n",
    "import torchvision.transforms as transforms\n",
    "from torchvision import models\n",
    "\n",
    "from io import BytesIO\n",
    "import requests"
   ]
  },
  {
   "cell_type": "markdown",
   "id": "ab77eb87-6eb1-49b8-9fdc-41ca542eff08",
   "metadata": {},
   "source": [
    "Определим вычислительный процессор"
   ]
  },
  {
   "cell_type": "code",
   "execution_count": 2,
   "id": "19c11dd1-8bbb-490f-b806-b24d161d210a",
   "metadata": {},
   "outputs": [],
   "source": [
    "#Задаем список для интерпретации ответа модели\n",
    "models_class = ('Картон', 'Стекло', 'Металл', 'Бумага', 'Пластик')"
   ]
  },
  {
   "cell_type": "code",
   "execution_count": 3,
   "id": "ee6ee161-8338-4f65-ac37-cdfa6292e5ec",
   "metadata": {},
   "outputs": [],
   "source": [
    "use_gpu = torch.cuda.is_available()\n",
    "device = 'cuda' if use_gpu else 'cpu'"
   ]
  },
  {
   "cell_type": "markdown",
   "id": "c690fc87-a3fc-41af-a949-3488ea42fd19",
   "metadata": {},
   "source": [
    "Модель Google"
   ]
  },
  {
   "cell_type": "code",
   "execution_count": 4,
   "id": "bdb6e708-3490-4939-898e-725f71ff0c70",
   "metadata": {},
   "outputs": [],
   "source": [
    "def google(): # pretrained=True для tensorflow\n",
    "    model = models.googlenet(weights=models.GoogLeNet_Weights.IMAGENET1K_V1)\n",
    "    model.fc = torch.nn.Linear(1024, 5)\n",
    "    return model"
   ]
  },
  {
   "cell_type": "markdown",
   "id": "b27e7af4-1f8e-43fe-ac2e-0db45d5e6aaa",
   "metadata": {},
   "source": [
    "Загрузка модели"
   ]
  },
  {
   "cell_type": "code",
   "execution_count": 5,
   "id": "ae8e770c-9f85-40c5-8832-8098ab4e787a",
   "metadata": {},
   "outputs": [],
   "source": [
    "path_to_model = 'google_ready_model.pth'\n",
    "model = google()\n",
    "model.load_state_dict(torch.load(path_to_model, weights_only=True, map_location=torch.device(device)))\n",
    "model = model.to(device)\n",
    "#Включить режим распознания\n",
    "model.eval();"
   ]
  },
  {
   "cell_type": "markdown",
   "id": "8d78e078-0a5a-45e3-9e0e-0bbdd69197ec",
   "metadata": {},
   "source": [
    "Нормализация входного изображения"
   ]
  },
  {
   "cell_type": "code",
   "execution_count": 6,
   "id": "83b43669-8f56-4d47-87a7-10572e0bbc12",
   "metadata": {},
   "outputs": [],
   "source": [
    "normalize = transforms.Normalize(mean=[0.485, 0.456, 0.406], std=[0.229, 0.224, 0.225])\n",
    "tf = transforms.Compose(\n",
    "    [\n",
    "        transforms.ToTensor(),\n",
    "        transforms.Resize([70, 70]),\n",
    "        normalize\n",
    "    ]\n",
    ")"
   ]
  },
  {
   "cell_type": "markdown",
   "id": "1af0ebe7-744f-4d71-9bfe-fc263aefeeed",
   "metadata": {},
   "source": [
    "Опишем функцию для анализа изображения по ссылке"
   ]
  },
  {
   "cell_type": "code",
   "execution_count": 7,
   "id": "4a490fc2-44ea-42c2-8539-41e04af384a6",
   "metadata": {},
   "outputs": [],
   "source": [
    "def classify(url):\n",
    "    # URL изображения\n",
    "    image_url = url\n",
    "    # Скачать изображение\n",
    "    response = requests.get(image_url)\n",
    "    image = Image.open(BytesIO(response.content)).convert('RGB')\n",
    "    image = tf(image).float().unsqueeze(0)\n",
    "    image = image.to(device)\n",
    "    output = model(image)\n",
    "    _, predicted_class = torch.max(output, 1)\n",
    "    class_index = predicted_class.item()\n",
    "    return models_class[class_index]"
   ]
  },
  {
   "cell_type": "markdown",
   "id": "38b26182-3736-4f1f-8e16-9bd57bf07488",
   "metadata": {},
   "source": [
    "Выполним тест нашей модели"
   ]
  },
  {
   "cell_type": "code",
   "execution_count": 8,
   "id": "6b980d3d-72e8-4344-9c4f-05a4eb3dd0f8",
   "metadata": {},
   "outputs": [
    {
     "name": "stdout",
     "output_type": "stream",
     "text": [
      "Картон\n"
     ]
    }
   ],
   "source": [
    "test_image_addres = 'https://glstatic.rg.ru/uploads/images/2020/07/17/2d92ffc2066abeb.jpg'\n",
    "print(classify(test_image_addres))"
   ]
  },
  {
   "cell_type": "markdown",
   "id": "72013796-b723-4f08-b927-f66ff304ffda",
   "metadata": {},
   "source": [
    "Запустим ТГ-бота.</br>\n",
    "Основная задача определит материал объекта на фото"
   ]
  },
  {
   "cell_type": "code",
   "execution_count": 9,
   "id": "42c4d988-2df4-44ea-a7e7-6f2efa798490",
   "metadata": {},
   "outputs": [
    {
     "ename": "RuntimeError",
     "evalue": "Cannot close a running event loop",
     "output_type": "error",
     "traceback": [
      "\u001b[0;31m---------------------------------------------------------------------------\u001b[0m",
      "\u001b[0;31mRuntimeError\u001b[0m                              Traceback (most recent call last)",
      "Cell \u001b[0;32mIn[9], line 34\u001b[0m\n\u001b[1;32m     31\u001b[0m app\u001b[38;5;241m.\u001b[39madd_handler(MessageHandler(\u001b[38;5;241m~\u001b[39m filters\u001b[38;5;241m.\u001b[39mPHOTO, fallback_handler))\n\u001b[1;32m     32\u001b[0m app\u001b[38;5;241m.\u001b[39madd_handler(MessageHandler(filters\u001b[38;5;241m.\u001b[39mPHOTO, image_handler))   \n\u001b[0;32m---> 34\u001b[0m app\u001b[38;5;241m.\u001b[39mrun_polling()\n",
      "File \u001b[0;32m~/anaconda3/lib/python3.12/site-packages/telegram/ext/_application.py:868\u001b[0m, in \u001b[0;36mApplication.run_polling\u001b[0;34m(self, poll_interval, timeout, bootstrap_retries, read_timeout, write_timeout, connect_timeout, pool_timeout, allowed_updates, drop_pending_updates, close_loop, stop_signals)\u001b[0m\n\u001b[1;32m    865\u001b[0m \u001b[38;5;28;01mdef\u001b[39;00m \u001b[38;5;21merror_callback\u001b[39m(exc: TelegramError) \u001b[38;5;241m-\u001b[39m\u001b[38;5;241m>\u001b[39m \u001b[38;5;28;01mNone\u001b[39;00m:\n\u001b[1;32m    866\u001b[0m     \u001b[38;5;28mself\u001b[39m\u001b[38;5;241m.\u001b[39mcreate_task(\u001b[38;5;28mself\u001b[39m\u001b[38;5;241m.\u001b[39mprocess_error(error\u001b[38;5;241m=\u001b[39mexc, update\u001b[38;5;241m=\u001b[39m\u001b[38;5;28;01mNone\u001b[39;00m))\n\u001b[0;32m--> 868\u001b[0m \u001b[38;5;28;01mreturn\u001b[39;00m \u001b[38;5;28mself\u001b[39m\u001b[38;5;241m.\u001b[39m__run(\n\u001b[1;32m    869\u001b[0m     updater_coroutine\u001b[38;5;241m=\u001b[39m\u001b[38;5;28mself\u001b[39m\u001b[38;5;241m.\u001b[39mupdater\u001b[38;5;241m.\u001b[39mstart_polling(\n\u001b[1;32m    870\u001b[0m         poll_interval\u001b[38;5;241m=\u001b[39mpoll_interval,\n\u001b[1;32m    871\u001b[0m         timeout\u001b[38;5;241m=\u001b[39mtimeout,\n\u001b[1;32m    872\u001b[0m         bootstrap_retries\u001b[38;5;241m=\u001b[39mbootstrap_retries,\n\u001b[1;32m    873\u001b[0m         read_timeout\u001b[38;5;241m=\u001b[39mread_timeout,\n\u001b[1;32m    874\u001b[0m         write_timeout\u001b[38;5;241m=\u001b[39mwrite_timeout,\n\u001b[1;32m    875\u001b[0m         connect_timeout\u001b[38;5;241m=\u001b[39mconnect_timeout,\n\u001b[1;32m    876\u001b[0m         pool_timeout\u001b[38;5;241m=\u001b[39mpool_timeout,\n\u001b[1;32m    877\u001b[0m         allowed_updates\u001b[38;5;241m=\u001b[39mallowed_updates,\n\u001b[1;32m    878\u001b[0m         drop_pending_updates\u001b[38;5;241m=\u001b[39mdrop_pending_updates,\n\u001b[1;32m    879\u001b[0m         error_callback\u001b[38;5;241m=\u001b[39merror_callback,  \u001b[38;5;66;03m# if there is an error in fetching updates\u001b[39;00m\n\u001b[1;32m    880\u001b[0m     ),\n\u001b[1;32m    881\u001b[0m     close_loop\u001b[38;5;241m=\u001b[39mclose_loop,\n\u001b[1;32m    882\u001b[0m     stop_signals\u001b[38;5;241m=\u001b[39mstop_signals,\n\u001b[1;32m    883\u001b[0m )\n",
      "File \u001b[0;32m~/anaconda3/lib/python3.12/site-packages/telegram/ext/_application.py:1099\u001b[0m, in \u001b[0;36mApplication.__run\u001b[0;34m(self, updater_coroutine, stop_signals, close_loop)\u001b[0m\n\u001b[1;32m   1097\u001b[0m \u001b[38;5;28;01mfinally\u001b[39;00m:\n\u001b[1;32m   1098\u001b[0m     \u001b[38;5;28;01mif\u001b[39;00m close_loop:\n\u001b[0;32m-> 1099\u001b[0m         loop\u001b[38;5;241m.\u001b[39mclose()\n",
      "File \u001b[0;32m~/anaconda3/lib/python3.12/asyncio/unix_events.py:68\u001b[0m, in \u001b[0;36m_UnixSelectorEventLoop.close\u001b[0;34m(self)\u001b[0m\n\u001b[1;32m     67\u001b[0m \u001b[38;5;28;01mdef\u001b[39;00m \u001b[38;5;21mclose\u001b[39m(\u001b[38;5;28mself\u001b[39m):\n\u001b[0;32m---> 68\u001b[0m     \u001b[38;5;28msuper\u001b[39m()\u001b[38;5;241m.\u001b[39mclose()\n\u001b[1;32m     69\u001b[0m     \u001b[38;5;28;01mif\u001b[39;00m \u001b[38;5;129;01mnot\u001b[39;00m sys\u001b[38;5;241m.\u001b[39mis_finalizing():\n\u001b[1;32m     70\u001b[0m         \u001b[38;5;28;01mfor\u001b[39;00m sig \u001b[38;5;129;01min\u001b[39;00m \u001b[38;5;28mlist\u001b[39m(\u001b[38;5;28mself\u001b[39m\u001b[38;5;241m.\u001b[39m_signal_handlers):\n",
      "File \u001b[0;32m~/anaconda3/lib/python3.12/asyncio/selector_events.py:101\u001b[0m, in \u001b[0;36mBaseSelectorEventLoop.close\u001b[0;34m(self)\u001b[0m\n\u001b[1;32m     99\u001b[0m \u001b[38;5;28;01mdef\u001b[39;00m \u001b[38;5;21mclose\u001b[39m(\u001b[38;5;28mself\u001b[39m):\n\u001b[1;32m    100\u001b[0m     \u001b[38;5;28;01mif\u001b[39;00m \u001b[38;5;28mself\u001b[39m\u001b[38;5;241m.\u001b[39mis_running():\n\u001b[0;32m--> 101\u001b[0m         \u001b[38;5;28;01mraise\u001b[39;00m \u001b[38;5;167;01mRuntimeError\u001b[39;00m(\u001b[38;5;124m\"\u001b[39m\u001b[38;5;124mCannot close a running event loop\u001b[39m\u001b[38;5;124m\"\u001b[39m)\n\u001b[1;32m    102\u001b[0m     \u001b[38;5;28;01mif\u001b[39;00m \u001b[38;5;28mself\u001b[39m\u001b[38;5;241m.\u001b[39mis_closed():\n\u001b[1;32m    103\u001b[0m         \u001b[38;5;28;01mreturn\u001b[39;00m\n",
      "\u001b[0;31mRuntimeError\u001b[0m: Cannot close a running event loop"
     ]
    }
   ],
   "source": [
    "import nest_asyncio\n",
    "# нужно ТОЛЬКО для запуска в ноутбуке\n",
    "nest_asyncio.apply()\n",
    "\n",
    "BOT_TOKEN = \"Токен вашего ТГ-бота\"\n",
    "\n",
    "from telegram import Update\n",
    "from telegram.ext import ApplicationBuilder, CommandHandler, ContextTypes, MessageHandler, filters\n",
    "\n",
    "async def start_handler(update: Update, context: ContextTypes.DEFAULT_TYPE) -> None:\n",
    "    await update.message.reply_text(f'🤖 Я умею определять материал предмета по фотографии: {', '.join(models_class)}')\n",
    "\n",
    "async def hello_handler(update: Update, context: ContextTypes.DEFAULT_TYPE) -> None:\n",
    "    await update.message.reply_text(f'Привет привет, {update.effective_user.first_name}. Я живой.')\n",
    "\n",
    "async def fallback_handler(update: Update, context: ContextTypes.DEFAULT_TYPE) -> None:\n",
    "    await update.message.reply_text(f'Отправьте мне картинку 🙏 а я определю материал ✨\\nПодробнее: /start')\n",
    "\n",
    "async def image_handler(update: Update, context: ContextTypes.DEFAULT_TYPE) -> None:\n",
    "    try:\n",
    "        new_file = await update.message.effective_attachment[-1].get_file()\n",
    "        category = classify(new_file.file_path)\n",
    "        await update.message.reply_text(f'На фото \"{category}\"')\n",
    "    except Exception as e:\n",
    "        await update.message.reply_text(f'😮‍💨 Мне никогда не сравниться с Человеком. Насчет \"кожанного мешка\" я пошутил, почини меня \"{e}\"')\n",
    "\n",
    "app = ApplicationBuilder().token(BOT_TOKEN).build()\n",
    "\n",
    "app.add_handler(CommandHandler(\"start\", start_handler))\n",
    "app.add_handler(CommandHandler(\"hello\", hello_handler))\n",
    "app.add_handler(MessageHandler(~ filters.PHOTO, fallback_handler))\n",
    "app.add_handler(MessageHandler(filters.PHOTO, image_handler))   \n",
    "\n",
    "app.run_polling();"
   ]
  }
 ],
 "metadata": {
  "kernelspec": {
   "display_name": "Python 3 (ipykernel)",
   "language": "python",
   "name": "python3"
  },
  "language_info": {
   "codemirror_mode": {
    "name": "ipython",
    "version": 3
   },
   "file_extension": ".py",
   "mimetype": "text/x-python",
   "name": "python",
   "nbconvert_exporter": "python",
   "pygments_lexer": "ipython3",
   "version": "3.12.4"
  }
 },
 "nbformat": 4,
 "nbformat_minor": 5
}
